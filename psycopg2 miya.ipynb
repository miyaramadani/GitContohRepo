{
 "cells": [
  {
   "cell_type": "code",
   "execution_count": 21,
   "metadata": {},
   "outputs": [],
   "source": [
    "import psycopg2\n",
    "import pandas as pd"
   ]
  },
  {
   "cell_type": "code",
   "execution_count": 22,
   "metadata": {},
   "outputs": [],
   "source": [
    "# read dataset\n",
    "campaign = pd.read_excel('D:/iykra/data1/campaign.xlsx')\n",
    "campaign_details = pd.read_excel('D:/iykra/data1/campaign_details.xlsx')\n",
    "delivorder = pd.read_csv('D:/iykra/data1/delivorder.csv',nrows=1000)\n",
    "delivorder_item = pd.read_csv('D:/iykra/data1/delivorder_item.csv',nrows=1000)\n",
    "distance = pd.read_excel('D:/iykra/data1/distance.xlsx')\n",
    "geographic = pd.read_excel('D:/iykra/data1/geographic.xlsx')\n",
    "plants = pd.read_excel('D:/iykra/data1/plants.xlsx')\n",
    "produk = pd.read_excel('D:/iykra/data1/produk.xlsx')\n",
    "sales_order = pd.read_excel('D:/iykra/data1/sales_order2.xlsx')\n",
    "search_keyword = pd.read_excel('D:/iykra/data1/search_keyword.xlsx')\n",
    "user_location = pd.read_excel('D:/iykra/data1/user_location.xlsx')"
   ]
  },
  {
   "cell_type": "code",
   "execution_count": 23,
   "metadata": {},
   "outputs": [
    {
     "name": "stdout",
     "output_type": "stream",
     "text": [
      "<class 'pandas.core.frame.DataFrame'>\n",
      "RangeIndex: 14 entries, 0 to 13\n",
      "Data columns (total 13 columns):\n",
      "campaign             14 non-null object\n",
      "state                14 non-null object\n",
      "type                 14 non-null object\n",
      "currency             14 non-null object\n",
      "clicks               14 non-null int64\n",
      "impressions          14 non-null int64\n",
      "ctr                  14 non-null int64\n",
      "avg_cpc              14 non-null float64\n",
      "cost                 14 non-null float64\n",
      "conversions          14 non-null float64\n",
      "view_through_conv    14 non-null int64\n",
      "cost_per_conv        14 non-null float64\n",
      "conv_rate            14 non-null float64\n",
      "dtypes: float64(5), int64(4), object(4)\n",
      "memory usage: 1.5+ KB\n",
      "<class 'pandas.core.frame.DataFrame'>\n",
      "RangeIndex: 14 entries, 0 to 13\n",
      "Data columns (total 29 columns):\n",
      "campaign                 14 non-null object\n",
      "state                    14 non-null object\n",
      "type                     14 non-null object\n",
      "subtype                  14 non-null object\n",
      "labels                   10 non-null object\n",
      "bid_strategy             14 non-null object\n",
      "bid_strategy_type        14 non-null object\n",
      "sitelinks_active         14 non-null int64\n",
      "sitelinks_disapproved    14 non-null int64\n",
      "phone_active             14 non-null int64\n",
      "phone_disapproved        14 non-null int64\n",
      "apps_active              14 non-null int64\n",
      "apps_disapproved         14 non-null int64\n",
      "apps_level               14 non-null object\n",
      "desktop_bid_adj          14 non-null object\n",
      "mobile_bid_adj           14 non-null object\n",
      "tablet_bid_adj           14 non-null object\n",
      "currency                 14 non-null object\n",
      "clicks                   14 non-null int64\n",
      "impressions              14 non-null int64\n",
      "ctr                      14 non-null int64\n",
      "avg_cpc                  14 non-null float64\n",
      "cost                     14 non-null float64\n",
      "impr_abs_top             14 non-null float64\n",
      "impr_top                 14 non-null float64\n",
      "conversions              14 non-null float64\n",
      "view_through_conv        14 non-null int64\n",
      "cost_per_conv            14 non-null float64\n",
      "conv_rate                14 non-null float64\n",
      "dtypes: float64(7), int64(10), object(12)\n",
      "memory usage: 3.2+ KB\n",
      "<class 'pandas.core.frame.DataFrame'>\n",
      "RangeIndex: 1000 entries, 0 to 999\n",
      "Data columns (total 41 columns):\n",
      "do_id                            1000 non-null int64\n",
      "do_tgl                           1000 non-null object\n",
      "do_org_id                        1000 non-null int64\n",
      "do_so_id                         1000 non-null int64\n",
      "do_tm_id                         906 non-null float64\n",
      "do_nomor                         1000 non-null object\n",
      "do_driver_id                     906 non-null float64\n",
      "do_status_verifikasi             1000 non-null int64\n",
      "do_is_invoice                    1000 non-null int64\n",
      "do_is_tolak                      1000 non-null int64\n",
      "do_tolak_ket                     0 non-null float64\n",
      "do_tgl_tolak                     0 non-null float64\n",
      "do_jam_berangkat                 1000 non-null object\n",
      "do_ket                           0 non-null float64\n",
      "do_bag_pengiriman_id             0 non-null float64\n",
      "do_createtime                    1000 non-null object\n",
      "do_tgl_terima                    999 non-null object\n",
      "do_is_jurnal                     1000 non-null int64\n",
      "do_jam_terima                    999 non-null object\n",
      "do_jam_datang_diproyek           999 non-null object\n",
      "do_jam_bongkar                   999 non-null object\n",
      "do_tgl_datang_diproyek           999 non-null object\n",
      "do_tgl_bongkar                   999 non-null object\n",
      "do_is_invoice_plant_utama        1000 non-null int64\n",
      "do_stat_id                       999 non-null float64\n",
      "do_tgl_pulang                    999 non-null object\n",
      "do_jam_pulang                    999 non-null object\n",
      "do_jarak_km                      0 non-null float64\n",
      "do_ba_penolakan                  5 non-null object\n",
      "do_pembuat_penolakan             5 non-null float64\n",
      "do_penyebab_penolakan            5 non-null object\n",
      "do_penyetuju_penolakan           5 non-null float64\n",
      "do_tld_id                        5 non-null float64\n",
      "do_hari_ba_penolakan             5 non-null object\n",
      "do_tgl_ba_penolakan              5 non-null object\n",
      "do_barcode                       0 non-null float64\n",
      "do_alasan_berkas_belum_terima    92 non-null float64\n",
      "do_is_berkas_diterima            992 non-null float64\n",
      "do_tgl_berkas_diterima           899 non-null object\n",
      "do_tempat_cor                    0 non-null float64\n",
      "do_lokasi_terima                 0 non-null float64\n",
      "dtypes: float64(16), int64(8), object(17)\n",
      "memory usage: 320.4+ KB\n",
      "<class 'pandas.core.frame.DataFrame'>\n",
      "RangeIndex: 1000 entries, 0 to 999\n",
      "Data columns (total 6 columns):\n",
      "doi_id            1000 non-null int64\n",
      "doi_do_id         1000 non-null int64\n",
      "doi_soi_id        1000 non-null int64\n",
      "doi_qty_kirim     1000 non-null float64\n",
      "doi_qty_terima    1000 non-null float64\n",
      "ket               0 non-null float64\n",
      "dtypes: float64(3), int64(3)\n",
      "memory usage: 47.0 KB\n",
      "<class 'pandas.core.frame.DataFrame'>\n",
      "RangeIndex: 16 entries, 0 to 15\n",
      "Data columns (total 11 columns):\n",
      "from_location        16 non-null object\n",
      "currency             16 non-null object\n",
      "clicks               16 non-null int64\n",
      "impressions          16 non-null int64\n",
      "ctr                  16 non-null float64\n",
      "avg_cpc              16 non-null float64\n",
      "cost                 16 non-null float64\n",
      "conversions          16 non-null float64\n",
      "view_through_conv    16 non-null int64\n",
      "cost_per_conv        16 non-null float64\n",
      "conv_rate            16 non-null int64\n",
      "dtypes: float64(5), int64(4), object(2)\n",
      "memory usage: 1.5+ KB\n",
      "<class 'pandas.core.frame.DataFrame'>\n",
      "RangeIndex: 895 entries, 0 to 894\n",
      "Data columns (total 18 columns):\n",
      "country_territory         895 non-null object\n",
      "region                    895 non-null object\n",
      "metro_area                895 non-null object\n",
      "city                      895 non-null object\n",
      "most_targeted_location    895 non-null object\n",
      "location_type             895 non-null object\n",
      "currency                  895 non-null object\n",
      "clicks                    895 non-null int64\n",
      "impressions               895 non-null int64\n",
      "ctr                       895 non-null float64\n",
      "avg_cpc                   895 non-null float64\n",
      "cost                      895 non-null float64\n",
      "impr_abs_top              895 non-null float64\n",
      "impr_top                  895 non-null float64\n",
      "conversions               895 non-null float64\n",
      "view_through_conv         895 non-null int64\n",
      "cost_per_conv             895 non-null float64\n",
      "conv_rate                 895 non-null float64\n",
      "dtypes: float64(8), int64(3), object(7)\n",
      "memory usage: 125.9+ KB\n",
      "<class 'pandas.core.frame.DataFrame'>\n",
      "RangeIndex: 25 entries, 0 to 24\n",
      "Data columns (total 6 columns):\n",
      "plant                 25 non-null object\n",
      "batching_tipe         25 non-null object\n",
      "batching_jml          25 non-null int64\n",
      "batching_kapasitas    25 non-null int64\n",
      "status                25 non-null object\n",
      "jml_truk              22 non-null float64\n",
      "dtypes: float64(1), int64(2), object(3)\n",
      "memory usage: 1.2+ KB\n",
      "<class 'pandas.core.frame.DataFrame'>\n",
      "RangeIndex: 65 entries, 0 to 64\n",
      "Data columns (total 5 columns):\n",
      "no               65 non-null int64\n",
      "mutu             65 non-null object\n",
      "spesifikasi      65 non-null object\n",
      "slump            65 non-null object\n",
      "spek_tambahan    14 non-null object\n",
      "dtypes: int64(1), object(4)\n",
      "memory usage: 2.6+ KB\n",
      "<class 'pandas.core.frame.DataFrame'>\n",
      "RangeIndex: 24966 entries, 0 to 24965\n",
      "Data columns (total 9 columns):\n",
      "tanggal_pemesanan       24966 non-null datetime64[ns]\n",
      "nomor_kontrak_retail    24966 non-null object\n",
      "pelanggan               24966 non-null object\n",
      "jenis                   24966 non-null object\n",
      "nama_proyek             24966 non-null object\n",
      "product                 24965 non-null object\n",
      "area                    24966 non-null object\n",
      "nilai                   24966 non-null int64\n",
      "status                  24966 non-null object\n",
      "dtypes: datetime64[ns](1), int64(1), object(7)\n",
      "memory usage: 1.7+ MB\n",
      "<class 'pandas.core.frame.DataFrame'>\n",
      "RangeIndex: 328 entries, 0 to 327\n",
      "Data columns (total 19 columns):\n",
      "keyword               328 non-null object\n",
      "keyword_status        328 non-null object\n",
      "keyword_match_type    328 non-null object\n",
      "campaign              328 non-null object\n",
      "ad_group              328 non-null object\n",
      "keyword_max_cpc       328 non-null int64\n",
      "currency              328 non-null object\n",
      "clicks                328 non-null int64\n",
      "impressions           328 non-null int64\n",
      "ctr                   328 non-null float64\n",
      "avg_cpc               328 non-null float64\n",
      "cost                  328 non-null int64\n",
      "impr_abs_top          328 non-null float64\n",
      "impr_top              328 non-null float64\n",
      "conversions           328 non-null float64\n",
      "view_through_conv     328 non-null int64\n",
      "cost_conv             328 non-null float64\n",
      "conv_rate             328 non-null float64\n",
      "avg_cpm               328 non-null float64\n",
      "dtypes: float64(8), int64(5), object(6)\n",
      "memory usage: 48.8+ KB\n",
      "<class 'pandas.core.frame.DataFrame'>\n",
      "RangeIndex: 439 entries, 0 to 438\n",
      "Data columns (total 18 columns):\n",
      "country                   439 non-null object\n",
      "region                    439 non-null object\n",
      "metro_area                439 non-null object\n",
      "city                      439 non-null object\n",
      "most_targeted_location    439 non-null object\n",
      "location_type             439 non-null object\n",
      "currency                  439 non-null object\n",
      "clicks                    439 non-null int64\n",
      "impressions               439 non-null int64\n",
      "ctr                       439 non-null float64\n",
      "avg_cpc                   439 non-null float64\n",
      "cost                      439 non-null float64\n",
      "impr_abs_top              439 non-null float64\n",
      "impr_top                  439 non-null float64\n",
      "conversions               439 non-null float64\n",
      "view_through_conv         439 non-null int64\n",
      "cost_conv                 439 non-null float64\n",
      "conv_rate                 439 non-null float64\n",
      "dtypes: float64(8), int64(3), object(7)\n",
      "memory usage: 61.8+ KB\n"
     ]
    }
   ],
   "source": [
    "# cek info table campaign\n",
    "campaign.info()\n",
    "# cek info table campaign_details\n",
    "campaign_details.info()\n",
    "# cek info table delivorder\n",
    "delivorder.info()\n",
    "# cek info table delivorder_item\n",
    "delivorder_item.info()\n",
    "# cek info table distance\n",
    "distance.info()\n",
    "# cek info table geographic\n",
    "geographic.info()\n",
    "# cek info table plants\n",
    "plants.info()\n",
    "# cek info table produk\n",
    "produk.info()\n",
    "# cek info table sales_order\n",
    "sales_order.info()\n",
    "# cek info table search_keyword\n",
    "search_keyword.info()\n",
    "# cek info table user_location\n",
    "user_location.info()"
   ]
  },
  {
   "cell_type": "code",
   "execution_count": 24,
   "metadata": {},
   "outputs": [],
   "source": [
    "# fungsi untuk cek unique values pada tiap table\n",
    "def unique(table) :\n",
    "    return table.nunique() == len(table)"
   ]
  },
  {
   "cell_type": "code",
   "execution_count": 25,
   "metadata": {},
   "outputs": [
    {
     "data": {
      "text/plain": [
       "campaign              True\n",
       "state                False\n",
       "type                 False\n",
       "currency             False\n",
       "clicks               False\n",
       "impressions          False\n",
       "ctr                  False\n",
       "avg_cpc              False\n",
       "cost                 False\n",
       "conversions          False\n",
       "view_through_conv    False\n",
       "cost_per_conv        False\n",
       "conv_rate            False\n",
       "dtype: bool"
      ]
     },
     "execution_count": 25,
     "metadata": {},
     "output_type": "execute_result"
    }
   ],
   "source": [
    "# menjalankan fungsi unique() untuk table campaign\n",
    "unique(campaign)"
   ]
  },
  {
   "cell_type": "code",
   "execution_count": 5,
   "metadata": {},
   "outputs": [
    {
     "data": {
      "text/plain": [
       "campaign                  True\n",
       "state                    False\n",
       "type                     False\n",
       "subtype                  False\n",
       "labels                   False\n",
       "bid_strategy             False\n",
       "bid_strategy_type        False\n",
       "sitelinks_active         False\n",
       "sitelinks_disapproved    False\n",
       "phone_active             False\n",
       "phone_disapproved        False\n",
       "apps_active              False\n",
       "apps_disapproved         False\n",
       "apps_level               False\n",
       "desktop_bid_adj          False\n",
       "mobile_bid_adj           False\n",
       "tablet_bid_adj           False\n",
       "currency                 False\n",
       "clicks                   False\n",
       "impressions              False\n",
       "ctr                      False\n",
       "avg_cpc                  False\n",
       "cost                     False\n",
       "impr_abs_top             False\n",
       "impr_top                 False\n",
       "conversions              False\n",
       "view_through_conv        False\n",
       "cost_per_conv            False\n",
       "conv_rate                False\n",
       "dtype: bool"
      ]
     },
     "execution_count": 5,
     "metadata": {},
     "output_type": "execute_result"
    }
   ],
   "source": [
    "# menjalankan fungsi unique() untuk table campaign_details\n",
    "unique(campaign_details)"
   ]
  },
  {
   "cell_type": "code",
   "execution_count": 26,
   "metadata": {},
   "outputs": [
    {
     "data": {
      "text/plain": [
       "do_id                             True\n",
       "do_tgl                           False\n",
       "do_org_id                        False\n",
       "do_so_id                         False\n",
       "do_tm_id                         False\n",
       "do_nomor                          True\n",
       "do_driver_id                     False\n",
       "do_status_verifikasi             False\n",
       "do_is_invoice                    False\n",
       "do_is_tolak                      False\n",
       "do_tolak_ket                     False\n",
       "do_tgl_tolak                     False\n",
       "do_jam_berangkat                 False\n",
       "do_ket                           False\n",
       "do_bag_pengiriman_id             False\n",
       "do_createtime                    False\n",
       "do_tgl_terima                    False\n",
       "do_is_jurnal                     False\n",
       "do_jam_terima                    False\n",
       "do_jam_datang_diproyek           False\n",
       "do_jam_bongkar                   False\n",
       "do_tgl_datang_diproyek           False\n",
       "do_tgl_bongkar                   False\n",
       "do_is_invoice_plant_utama        False\n",
       "do_stat_id                       False\n",
       "do_tgl_pulang                    False\n",
       "do_jam_pulang                    False\n",
       "do_jarak_km                      False\n",
       "do_ba_penolakan                  False\n",
       "do_pembuat_penolakan             False\n",
       "do_penyebab_penolakan            False\n",
       "do_penyetuju_penolakan           False\n",
       "do_tld_id                        False\n",
       "do_hari_ba_penolakan             False\n",
       "do_tgl_ba_penolakan              False\n",
       "do_barcode                       False\n",
       "do_alasan_berkas_belum_terima    False\n",
       "do_is_berkas_diterima            False\n",
       "do_tgl_berkas_diterima           False\n",
       "do_tempat_cor                    False\n",
       "do_lokasi_terima                 False\n",
       "dtype: bool"
      ]
     },
     "execution_count": 26,
     "metadata": {},
     "output_type": "execute_result"
    }
   ],
   "source": [
    "# menjalankan fungsi unique() untuk table delivorder\n",
    "unique(delivorder)"
   ]
  },
  {
   "cell_type": "code",
   "execution_count": 27,
   "metadata": {},
   "outputs": [
    {
     "data": {
      "text/plain": [
       "doi_id             True\n",
       "doi_do_id          True\n",
       "doi_soi_id        False\n",
       "doi_qty_kirim     False\n",
       "doi_qty_terima    False\n",
       "ket               False\n",
       "dtype: bool"
      ]
     },
     "execution_count": 27,
     "metadata": {},
     "output_type": "execute_result"
    }
   ],
   "source": [
    "# menjalankan fungsi unique() untuk table delivorder_item\n",
    "unique(delivorder_item)"
   ]
  },
  {
   "cell_type": "code",
   "execution_count": 28,
   "metadata": {},
   "outputs": [
    {
     "data": {
      "text/plain": [
       "from_location         True\n",
       "currency             False\n",
       "clicks                True\n",
       "impressions           True\n",
       "ctr                  False\n",
       "avg_cpc               True\n",
       "cost                  True\n",
       "conversions           True\n",
       "view_through_conv    False\n",
       "cost_per_conv         True\n",
       "conv_rate            False\n",
       "dtype: bool"
      ]
     },
     "execution_count": 28,
     "metadata": {},
     "output_type": "execute_result"
    }
   ],
   "source": [
    "# menjalankan fungsi unique() untuk table distance\n",
    "unique(distance)"
   ]
  },
  {
   "cell_type": "code",
   "execution_count": 29,
   "metadata": {},
   "outputs": [
    {
     "data": {
      "text/plain": [
       "country_territory         False\n",
       "region                    False\n",
       "metro_area                False\n",
       "city                      False\n",
       "most_targeted_location    False\n",
       "location_type             False\n",
       "currency                  False\n",
       "clicks                    False\n",
       "impressions               False\n",
       "ctr                       False\n",
       "avg_cpc                   False\n",
       "cost                      False\n",
       "impr_abs_top              False\n",
       "impr_top                  False\n",
       "conversions               False\n",
       "view_through_conv         False\n",
       "cost_per_conv             False\n",
       "conv_rate                 False\n",
       "dtype: bool"
      ]
     },
     "execution_count": 29,
     "metadata": {},
     "output_type": "execute_result"
    }
   ],
   "source": [
    "# menjalankan fungsi unique() untuk table geographic\n",
    "unique(geographic)"
   ]
  },
  {
   "cell_type": "code",
   "execution_count": 30,
   "metadata": {},
   "outputs": [
    {
     "data": {
      "text/plain": [
       "plant                  True\n",
       "batching_tipe         False\n",
       "batching_jml          False\n",
       "batching_kapasitas    False\n",
       "status                False\n",
       "jml_truk              False\n",
       "dtype: bool"
      ]
     },
     "execution_count": 30,
     "metadata": {},
     "output_type": "execute_result"
    }
   ],
   "source": [
    "# menjalankan fungsi unique() untuk table plants\n",
    "unique(plants)"
   ]
  },
  {
   "cell_type": "code",
   "execution_count": 31,
   "metadata": {},
   "outputs": [
    {
     "data": {
      "text/plain": [
       "no                True\n",
       "mutu             False\n",
       "spesifikasi      False\n",
       "slump            False\n",
       "spek_tambahan    False\n",
       "dtype: bool"
      ]
     },
     "execution_count": 31,
     "metadata": {},
     "output_type": "execute_result"
    }
   ],
   "source": [
    "# menjalankan fungsi unique() untuk table produk\n",
    "unique(produk)"
   ]
  },
  {
   "cell_type": "code",
   "execution_count": 32,
   "metadata": {},
   "outputs": [
    {
     "data": {
      "text/plain": [
       "tanggal_pemesanan       False\n",
       "nomor_kontrak_retail     True\n",
       "pelanggan               False\n",
       "jenis                   False\n",
       "nama_proyek             False\n",
       "product                 False\n",
       "area                    False\n",
       "nilai                   False\n",
       "status                  False\n",
       "dtype: bool"
      ]
     },
     "execution_count": 32,
     "metadata": {},
     "output_type": "execute_result"
    }
   ],
   "source": [
    "# menjalankan fungsi unique() untuk table sales_order\n",
    "unique(sales_order)"
   ]
  },
  {
   "cell_type": "code",
   "execution_count": 23,
   "metadata": {},
   "outputs": [
    {
     "data": {
      "text/plain": [
       "keyword               False\n",
       "keyword_status        False\n",
       "keyword_match_type    False\n",
       "campaign              False\n",
       "ad_group              False\n",
       "keyword_max_cpc       False\n",
       "currency              False\n",
       "clicks                False\n",
       "impressions           False\n",
       "ctr                   False\n",
       "avg_cpc               False\n",
       "cost                  False\n",
       "impr_abs_top          False\n",
       "impr_top              False\n",
       "conversions           False\n",
       "view_through_conv     False\n",
       "cost_conv             False\n",
       "conv_rate             False\n",
       "avg_cpm               False\n",
       "dtype: bool"
      ]
     },
     "execution_count": 23,
     "metadata": {},
     "output_type": "execute_result"
    }
   ],
   "source": [
    "# menjalankan fungsi unique() untuk table search_keyword\n",
    "unique(search_keyword)"
   ]
  },
  {
   "cell_type": "code",
   "execution_count": 33,
   "metadata": {},
   "outputs": [
    {
     "data": {
      "text/plain": [
       "country                   False\n",
       "region                    False\n",
       "metro_area                False\n",
       "city                      False\n",
       "most_targeted_location    False\n",
       "location_type             False\n",
       "currency                  False\n",
       "clicks                    False\n",
       "impressions               False\n",
       "ctr                       False\n",
       "avg_cpc                   False\n",
       "cost                      False\n",
       "impr_abs_top              False\n",
       "impr_top                  False\n",
       "conversions               False\n",
       "view_through_conv         False\n",
       "cost_conv                 False\n",
       "conv_rate                 False\n",
       "dtype: bool"
      ]
     },
     "execution_count": 33,
     "metadata": {},
     "output_type": "execute_result"
    }
   ],
   "source": [
    "# menjalankan fungsi unique() untuk table user_location\n",
    "unique(user_location)"
   ]
  },
  {
   "cell_type": "code",
   "execution_count": 50,
   "metadata": {},
   "outputs": [],
   "source": [
    "# connect to PostgreSQL\n",
    "host=\"localhost\"\n",
    "database=\"postgres\"\n",
    "user=\"postgres\"\n",
    "password=\"miya\""
   ]
  },
  {
   "cell_type": "code",
   "execution_count": 49,
   "metadata": {},
   "outputs": [],
   "source": [
    "# connect to PostgreSQL\n",
    "#conn.close()\n",
    "conn = psycopg2.connect(host=host,database=database, user=user, password=password, port='5432')\n",
    "cur = conn.cursor()"
   ]
  },
  {
   "cell_type": "code",
   "execution_count": 53,
   "metadata": {},
   "outputs": [],
   "source": [
    "#fungsi create all table\n",
    "def create_tables(conn,cur):\n",
    "    \"\"\"create tables in the PostgreSQL database\"\"\"\n",
    "    commands = (\n",
    "        \"\"\"\n",
    "        CREATE TABLE public.campaign_m (\n",
    "            campaign VARCHAR(255) PRIMARY KEY,\n",
    "            state VARCHAR(255),\n",
    "            type VARCHAR(255),\n",
    "            currency VARCHAR(255),\n",
    "            clicks INTEGER,\n",
    "            impressions INTEGER,\n",
    "            ctr INTEGER,\n",
    "            avg_cpc FLOAT,\n",
    "            cost FLOAT,\n",
    "            conversions FLOAT,\n",
    "            view_through_conv INTEGER,\n",
    "            cost_per_conv FLOAT,\n",
    "            conv_rate FLOAT\n",
    "            )\n",
    "        \"\"\",\n",
    "        \"\"\"\n",
    "        CREATE TABLE public.campaign_details_m\n",
    "                (\n",
    "                campaign VARCHAR (255) PRIMARY KEY,\n",
    "                state VARCHAR (255),\n",
    "                type VARCHAR (255),\n",
    "                subtype VARCHAR (255),\n",
    "                labels VARCHAR (255),\n",
    "                bid_strategy VARCHAR (255),\n",
    "                bid_strategy_type VARCHAR (255),\n",
    "                sitelinks_active INTEGER,\n",
    "                sitelinks_disapproved INTEGER,\n",
    "                phone_active INTEGER,\n",
    "                phone_disapproved INTEGER,\n",
    "                apps_active INTEGER,\n",
    "                apps_disapproved INTEGER,\n",
    "                apps_level VARCHAR (255),\n",
    "                desktop_bid_adj VARCHAR (255),\n",
    "                mobile_bid_adj VARCHAR (255),\n",
    "                tablet_bid_adj VARCHAR (255),\n",
    "                currency VARCHAR (255),\n",
    "                clicks INTEGER,\n",
    "                impressions INTEGER,\n",
    "                ctr INTEGER,\n",
    "                avg_cpc FLOAT,\n",
    "                cost FLOAT,\n",
    "                impr_abs_top FLOAT,\n",
    "                impr_top FLOAT,\n",
    "                conversions FLOAT,\n",
    "                view_through_conv INTEGER,\n",
    "                cost_per_conv FLOAT,\n",
    "                conv_rate FLOAT\n",
    "                )\n",
    "        \"\"\",\n",
    "        \"\"\"\n",
    "        CREATE TABLE public.distances_m\n",
    "                (\n",
    "                from_location VARCHAR(255) PRIMARY KEY, \n",
    "                currency VARCHAR(255),\n",
    "                clicks INTEGER,\n",
    "                impressions INTEGER,\n",
    "                ctr FLOAT,\n",
    "                avg_cpc FLOAT,\n",
    "                cost FLOAT,\n",
    "                conversions FLOAT,\n",
    "                view_through_conv INTEGER,\n",
    "                cost_per_conv FLOAT,\n",
    "                conv_rate INTEGER\n",
    "                )\n",
    "        \"\"\",\n",
    "        \n",
    "        \"\"\"\n",
    "        CREATE TABLE public.delivorder_m\n",
    "                (\n",
    "                do_id INTEGER PRIMARY KEY,\n",
    "                do_tgl VARCHAR (255),\n",
    "                do_org_id INTEGER,\n",
    "                do_so_id INTEGER,\n",
    "                do_tm_id FLOAT,\n",
    "                do_nomor VARCHAR (255),\n",
    "                do_driver_id FLOAT,\n",
    "                do_status_verifikasi INTEGER,\n",
    "                do_is_invoice INTEGER,\n",
    "                do_is_tolak INTEGER,\n",
    "                do_tolak_ket FLOAT,\n",
    "                do_tgl_tolak FLOAT,\n",
    "                do_jam_berangkat VARCHAR (255),\n",
    "                do_ket FLOAT,\n",
    "                do_bag_pengiriman_id FLOAT,\n",
    "                do_createtime VARCHAR (255),\n",
    "                do_tgl_terima VARCHAR (255),\n",
    "                do_is_jurnal INTEGER,\n",
    "                do_jam_terima VARCHAR (255),\n",
    "                do_jam_datang_diproyek VARCHAR (255),\n",
    "                do_jam_bongkar VARCHAR (255),\n",
    "                do_tgl_datang_diproyek VARCHAR (255),\n",
    "                do_tgl_bongkar VARCHAR (255),\n",
    "                do_is_invoice_plant_utama INTEGER,\n",
    "                do_stat_id FLOAT,\n",
    "                do_tgl_pulang VARCHAR (255),\n",
    "                do_jam_pulang VARCHAR (255),\n",
    "                do_jarak_km FLOAT,\n",
    "                do_ba_penolakan VARCHAR (255),\n",
    "                do_pembuat_penolakan FLOAT,\n",
    "                do_penyebab_penolakan VARCHAR (255),\n",
    "                do_penyetuju_penolakan FLOAT,\n",
    "                do_tld_id FLOAT,\n",
    "                do_hari_ba_penolakan VARCHAR (255),\n",
    "                do_tgl_ba_penolakan VARCHAR (255),\n",
    "                do_barcode FLOAT,\n",
    "                do_alasan_berkas_belum_terima FLOAT,\n",
    "                do_is_berkas_diterima FLOAT,\n",
    "                do_tgl_berkas_diterima VARCHAR (255),\n",
    "                do_tempat_cor VARCHAR (255),\n",
    "                do_lokasi_terima FLOAT\n",
    "                )\n",
    "\n",
    "        \"\"\",\n",
    "        \"\"\"\n",
    "         CREATE TABLE public.delivorder_item_m\n",
    "                (\n",
    "                id_delivorder SERIAL PRIMARY KEY,\n",
    "                doi_id INTEGER,\n",
    "                doi_do_id INTEGER,\n",
    "                doi_soi_id INTEGER,\n",
    "                doi_qty_kirim FLOAT,\n",
    "                doi_qty_terima FLOAT,\n",
    "                ket VARCHAR(255)\n",
    "                )\n",
    "\n",
    "        \"\"\",\n",
    "        \"\"\"\n",
    "        CREATE TABLE public.plant_m\n",
    "                (\n",
    "                plant VARCHAR (255) PRIMARY KEY,\n",
    "                batching_tipe VARCHAR (255),\n",
    "                batching_jml INTEGER,\n",
    "                batching_kapasitas INTEGER,\n",
    "                status VARCHAR (255),\n",
    "                jml_truk FLOAT\n",
    "                )\n",
    "\n",
    "        \"\"\",\n",
    "        \"\"\"\n",
    "        CREATE TABLE public.geographic_m\n",
    "                (\n",
    "                id_geo SERIAL PRIMARY KEY,\n",
    "                country_territory VARCHAR(255),\n",
    "                region VARCHAR(255),\n",
    "                metro_area VARCHAR(255),\n",
    "                city VARCHAR(255),\n",
    "                most_targeted_location VARCHAR(255),\n",
    "                location_type VARCHAR(255),\n",
    "                currency VARCHAR(255),\n",
    "                clicks INTEGER,\n",
    "                impressions INTEGER,\n",
    "                ctr FLOAT,\n",
    "                avg_cpc FLOAT,\n",
    "                cost FLOAT,\n",
    "                impr_abs_top FLOAT,\n",
    "                impr_top FLOAT,\n",
    "                conversions FLOAT,\n",
    "                view_through_conv INTEGER,\n",
    "                cost_per_conv FLOAT,\n",
    "                conv_rate FLOAT\n",
    "                )\n",
    "        \"\"\",\n",
    "        \"\"\"\n",
    "        CREATE TABLE public.produk_m      \n",
    "                (\n",
    "                no INTEGER PRIMARY KEY,\n",
    "                mutu VARCHAR(255),\n",
    "                spesifikasi VARCHAR(255),\n",
    "                slump VARCHAR(255),\n",
    "                spek_tambahan VARCHAR(255)\n",
    "                )\n",
    "\n",
    "        \"\"\",\n",
    "        \"\"\"\n",
    "        CREATE TABLE public.sales_order2_m       \n",
    "                (\n",
    "                tanggal_pemesanan TIMESTAMP,\n",
    "                nomor_kontrak_retail VARCHAR(255) PRIMARY KEY,\n",
    "                pelanggan VARCHAR(255),\n",
    "                jenis VARCHAR(255),\n",
    "                nama_proyek VARCHAR(255),\n",
    "                product VARCHAR(255),\n",
    "                area VARCHAR(255),\n",
    "                nilai INTEGER,\n",
    "                status VARCHAR(255)\n",
    "                )\n",
    "\n",
    "        \"\"\",\n",
    "        \"\"\"\n",
    "        CREATE TABLE public.search_keyword_m      \n",
    "                (\n",
    "                id_keyword SERIAL PRIMARY KEY,\n",
    "                keyword VARCHAR (255),\n",
    "                keyword_status VARCHAR (255),\n",
    "                keyword_match_type VARCHAR (255),\n",
    "                campaign VARCHAR (255),\n",
    "                ad_group VARCHAR (255),\n",
    "                keyword_max_cpc INTEGER,\n",
    "                currency VARCHAR (255),\n",
    "                clicks INTEGER,\n",
    "                impressions INTEGER,\n",
    "                ctr FLOAT,\n",
    "                avg_cpc FLOAT,\n",
    "                cost INTEGER,\n",
    "                impr_abs_top FLOAT,\n",
    "                impr_top FLOAT,\n",
    "                conversions FLOAT,\n",
    "                view_through_conv INTEGER,\n",
    "                cost_conv FLOAT,\n",
    "                conv_rate FLOAT,\n",
    "                avg_cpm FLOAT\n",
    "                )\n",
    "\n",
    "        \"\"\",\n",
    "        \"\"\"\n",
    "        CREATE TABLE public.user_location_m        \n",
    "                (\n",
    "                id_location SERIAL PRIMARY KEY,\n",
    "                country VARCHAR (255),\n",
    "                region VARCHAR (255),\n",
    "                metro_area VARCHAR (255),\n",
    "                city VARCHAR (255),\n",
    "                most_targeted_location VARCHAR (255),\n",
    "                location_type VARCHAR (255),\n",
    "                currency VARCHAR (255),\n",
    "                clicks INTEGER,\n",
    "                impressions INTEGER,\n",
    "                ctr FLOAT,\n",
    "                avg_cpc FLOAT,\n",
    "                cost FLOAT,\n",
    "                impr_abs_top FLOAT,\n",
    "                impr_top FLOAT,\n",
    "                conversions FLOAT,\n",
    "                view_through_conv INTEGER,\n",
    "                cost_conv FLOAT,\n",
    "                conv_rate FLOAT\n",
    "                )\n",
    "        \"\"\"\n",
    "        ,)\n",
    "    for command in commands:\n",
    "        cur.execute(command)\n",
    "        conn.commit()"
   ]
  },
  {
   "cell_type": "code",
   "execution_count": 54,
   "metadata": {},
   "outputs": [
    {
     "ename": "InFailedSqlTransaction",
     "evalue": "current transaction is aborted, commands ignored until end of transaction block\n",
     "output_type": "error",
     "traceback": [
      "\u001b[1;31m---------------------------------------------------------------------------\u001b[0m",
      "\u001b[1;31mInFailedSqlTransaction\u001b[0m                    Traceback (most recent call last)",
      "\u001b[1;32m<ipython-input-54-6994c78b0fbb>\u001b[0m in \u001b[0;36m<module>\u001b[1;34m\u001b[0m\n\u001b[0;32m      1\u001b[0m \u001b[1;31m# menjalankan fungsi create table\u001b[0m\u001b[1;33m\u001b[0m\u001b[1;33m\u001b[0m\u001b[1;33m\u001b[0m\u001b[0m\n\u001b[1;32m----> 2\u001b[1;33m \u001b[0mcreate_tables\u001b[0m \u001b[1;33m(\u001b[0m\u001b[0mconn\u001b[0m\u001b[1;33m,\u001b[0m\u001b[0mcur\u001b[0m\u001b[1;33m)\u001b[0m\u001b[1;33m\u001b[0m\u001b[1;33m\u001b[0m\u001b[0m\n\u001b[0m",
      "\u001b[1;32m<ipython-input-53-badd2ee8fc20>\u001b[0m in \u001b[0;36mcreate_tables\u001b[1;34m(conn, cur)\u001b[0m\n\u001b[0;32m    245\u001b[0m         ,)\n\u001b[0;32m    246\u001b[0m     \u001b[1;32mfor\u001b[0m \u001b[0mcommand\u001b[0m \u001b[1;32min\u001b[0m \u001b[0mcommands\u001b[0m\u001b[1;33m:\u001b[0m\u001b[1;33m\u001b[0m\u001b[1;33m\u001b[0m\u001b[0m\n\u001b[1;32m--> 247\u001b[1;33m         \u001b[0mcur\u001b[0m\u001b[1;33m.\u001b[0m\u001b[0mexecute\u001b[0m\u001b[1;33m(\u001b[0m\u001b[0mcommand\u001b[0m\u001b[1;33m)\u001b[0m\u001b[1;33m\u001b[0m\u001b[1;33m\u001b[0m\u001b[0m\n\u001b[0m\u001b[0;32m    248\u001b[0m         \u001b[0mconn\u001b[0m\u001b[1;33m.\u001b[0m\u001b[0mcommit\u001b[0m\u001b[1;33m(\u001b[0m\u001b[1;33m)\u001b[0m\u001b[1;33m\u001b[0m\u001b[1;33m\u001b[0m\u001b[0m\n",
      "\u001b[1;31mInFailedSqlTransaction\u001b[0m: current transaction is aborted, commands ignored until end of transaction block\n"
     ]
    }
   ],
   "source": [
    "# menjalankan fungsi create table\n",
    "create_tables (conn,cur)"
   ]
  },
  {
   "cell_type": "code",
   "execution_count": 55,
   "metadata": {},
   "outputs": [],
   "source": [
    "# fungsi insert values into tables in PostgreSQL\n",
    "def insert_into(python_table, sql_table, conn, cur):\n",
    "    # list COLUMNS\n",
    "    list_columns = list(python_table.columns)\n",
    "    \n",
    "    # VALUES to be inserted\n",
    "    value = []\n",
    "    table_as_str = python_table.astype(str)\n",
    "    for i in range(len(table_as_str)):\n",
    "        value.append(str(tuple(table_as_str.iloc[i].to_list())))\n",
    "    value = \",\".join(value)\n",
    "    \n",
    "    sql = \"INSERT INTO %s(%s) VALUES %s\" % (sql_table, \", \".join(col for col in list_columns), value)\n",
    "    try:\n",
    "        # execute the INSERT statement\n",
    "        cur.execute(sql, (sql_table,))\n",
    "        # commit the changes to the database\n",
    "        conn.commit()\n",
    "        # close communication with the database\n",
    "    except (Exception, psycopg2.DatabaseError) as error:\n",
    "        print(error)"
   ]
  },
  {
   "cell_type": "code",
   "execution_count": 56,
   "metadata": {},
   "outputs": [
    {
     "name": "stdout",
     "output_type": "stream",
     "text": [
      "current transaction is aborted, commands ignored until end of transaction block\n",
      "\n"
     ]
    }
   ],
   "source": [
    "# insert values into table campaign\n",
    "insert_into (campaign, 'campaign', conn, cur)"
   ]
  },
  {
   "cell_type": "code",
   "execution_count": 57,
   "metadata": {},
   "outputs": [
    {
     "name": "stdout",
     "output_type": "stream",
     "text": [
      "current transaction is aborted, commands ignored until end of transaction block\n",
      "\n"
     ]
    }
   ],
   "source": [
    "# insert values into table campaign_details\n",
    "insert_into (campaign_details, 'campaign_details', conn, cur)"
   ]
  },
  {
   "cell_type": "code",
   "execution_count": 58,
   "metadata": {},
   "outputs": [
    {
     "name": "stdout",
     "output_type": "stream",
     "text": [
      "current transaction is aborted, commands ignored until end of transaction block\n",
      "\n"
     ]
    }
   ],
   "source": [
    "# insert values into table delivorder\n",
    "insert_into (delivorder, 'delivorder', conn, cur)"
   ]
  },
  {
   "cell_type": "code",
   "execution_count": 59,
   "metadata": {},
   "outputs": [
    {
     "name": "stdout",
     "output_type": "stream",
     "text": [
      "current transaction is aborted, commands ignored until end of transaction block\n",
      "\n"
     ]
    }
   ],
   "source": [
    "# insert values into table delivorder_item\n",
    "insert_into (delivorder_item, 'delivorder_item', conn, cur)"
   ]
  },
  {
   "cell_type": "code",
   "execution_count": 40,
   "metadata": {},
   "outputs": [
    {
     "name": "stdout",
     "output_type": "stream",
     "text": [
      "current transaction is aborted, commands ignored until end of transaction block\n",
      "\n"
     ]
    }
   ],
   "source": [
    "# insert values into table geographic\n",
    "insert_into (geographic, 'geographic', conn, cur)"
   ]
  },
  {
   "cell_type": "code",
   "execution_count": 60,
   "metadata": {},
   "outputs": [
    {
     "name": "stdout",
     "output_type": "stream",
     "text": [
      "current transaction is aborted, commands ignored until end of transaction block\n",
      "\n"
     ]
    }
   ],
   "source": [
    "# insert values into table plants\n",
    "insert_into (plants, 'plant', conn, cur)"
   ]
  },
  {
   "cell_type": "code",
   "execution_count": 61,
   "metadata": {},
   "outputs": [
    {
     "name": "stdout",
     "output_type": "stream",
     "text": [
      "current transaction is aborted, commands ignored until end of transaction block\n",
      "\n"
     ]
    }
   ],
   "source": [
    "# insert values into table produk\n",
    "insert_into (produk, 'produk', conn, cur)"
   ]
  },
  {
   "cell_type": "code",
   "execution_count": 62,
   "metadata": {},
   "outputs": [
    {
     "name": "stdout",
     "output_type": "stream",
     "text": [
      "current transaction is aborted, commands ignored until end of transaction block\n",
      "\n"
     ]
    }
   ],
   "source": [
    "# insert values into table sales_order2\n",
    "insert_into (sales_order, 'sales_order2', conn, cur)"
   ]
  },
  {
   "cell_type": "code",
   "execution_count": 63,
   "metadata": {},
   "outputs": [
    {
     "name": "stdout",
     "output_type": "stream",
     "text": [
      "current transaction is aborted, commands ignored until end of transaction block\n",
      "\n"
     ]
    }
   ],
   "source": [
    "# insert values into table search_keyword\n",
    "insert_into (search_keyword, 'search_keyword', conn, cur)"
   ]
  },
  {
   "cell_type": "code",
   "execution_count": 64,
   "metadata": {},
   "outputs": [
    {
     "name": "stdout",
     "output_type": "stream",
     "text": [
      "current transaction is aborted, commands ignored until end of transaction block\n",
      "\n"
     ]
    }
   ],
   "source": [
    "# insert values into table distances\n",
    "insert_into (distance, 'distances', conn, cur)"
   ]
  },
  {
   "cell_type": "code",
   "execution_count": 65,
   "metadata": {},
   "outputs": [
    {
     "name": "stdout",
     "output_type": "stream",
     "text": [
      "current transaction is aborted, commands ignored until end of transaction block\n",
      "\n"
     ]
    }
   ],
   "source": [
    "# insert values into table user_location\n",
    "insert_into (user_location, 'user_location', conn, cur)"
   ]
  },
  {
   "cell_type": "code",
   "execution_count": null,
   "metadata": {},
   "outputs": [],
   "source": []
  }
 ],
 "metadata": {
  "kernelspec": {
   "display_name": "Python 3",
   "language": "python",
   "name": "python3"
  },
  "language_info": {
   "codemirror_mode": {
    "name": "ipython",
    "version": 3
   },
   "file_extension": ".py",
   "mimetype": "text/x-python",
   "name": "python",
   "nbconvert_exporter": "python",
   "pygments_lexer": "ipython3",
   "version": "3.7.3"
  }
 },
 "nbformat": 4,
 "nbformat_minor": 2
}
