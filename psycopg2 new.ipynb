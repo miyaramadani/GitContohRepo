{
 "cells": [
  {
   "cell_type": "code",
   "execution_count": 26,
   "metadata": {},
   "outputs": [],
   "source": [
    "import psycopg2\n",
    "import pandas as pd"
   ]
  },
  {
   "cell_type": "code",
   "execution_count": 27,
   "metadata": {},
   "outputs": [],
   "source": [
    "host=\"localhost\"\n",
    "database=\"postgres\"\n",
    "user=\"postgres\"\n",
    "password=\"miya\""
   ]
  },
  {
   "cell_type": "code",
   "execution_count": 36,
   "metadata": {},
   "outputs": [],
   "source": [
    "#conn.close()\n",
    "conn = psycopg2.connect(host=host,database=database, user=user, password=password)\n",
    "cur = conn.cursor()"
   ]
  },
  {
   "cell_type": "code",
   "execution_count": 29,
   "metadata": {},
   "outputs": [],
   "source": [
    "data1= pd.read_excel(\"D:/iykra/data1/campaign.xlsx\")\n",
    "data2= pd.read_excel(\"D:/iykra/data1/campaign_details.xlsx\")\n",
    "data3= pd.read_excel(\"D:/iykra/data1/distance.xlsx\")\n",
    "data4= pd.read_excel(\"D:/iykra/data1/geographic.xlsx\")\n",
    "data5= pd.read_excel(\"D:/iykra/data1/plants.xlsx\")\n",
    "data6= pd.read_excel(\"D:/iykra/data1/produk.xlsx\")\n",
    "data7= pd.read_excel(\"D:/iykra/data1/sales_order2.xlsx\")\n",
    "data8= pd.read_excel(\"D:/iykra/data1/search_keyword.xlsx\")\n",
    "data9= pd.read_excel(\"D:/iykra/data1/user_location.xlsx\")\n",
    "data10= pd.read_csv (\"D:/iykra/data1/delivorder.csv\")\n",
    "data11= pd.read_csv (\"D:/iykra/data1/delivorder_item.csv\")\n",
    "\n"
   ]
  },
  {
   "cell_type": "code",
   "execution_count": 30,
   "metadata": {},
   "outputs": [
    {
     "data": {
      "text/plain": [
       "Index(['tanggal_pemesanan', 'nomor_kontrak_retail', 'pelanggan', 'jenis',\n",
       "       'nama_proyek', 'product', 'area', 'nilai', 'status'],\n",
       "      dtype='object')"
      ]
     },
     "execution_count": 30,
     "metadata": {},
     "output_type": "execute_result"
    }
   ],
   "source": [
    "data7.columns"
   ]
  },
  {
   "cell_type": "code",
   "execution_count": 31,
   "metadata": {},
   "outputs": [
    {
     "ename": "KeyError",
     "evalue": "'country'",
     "output_type": "error",
     "traceback": [
      "\u001b[1;31m---------------------------------------------------------------------------\u001b[0m",
      "\u001b[1;31mKeyError\u001b[0m                                  Traceback (most recent call last)",
      "\u001b[1;32mC:\\ProgramData\\Anaconda3\\lib\\site-packages\\pandas\\core\\indexes\\base.py\u001b[0m in \u001b[0;36mget_loc\u001b[1;34m(self, key, method, tolerance)\u001b[0m\n\u001b[0;32m   2656\u001b[0m             \u001b[1;32mtry\u001b[0m\u001b[1;33m:\u001b[0m\u001b[1;33m\u001b[0m\u001b[1;33m\u001b[0m\u001b[0m\n\u001b[1;32m-> 2657\u001b[1;33m                 \u001b[1;32mreturn\u001b[0m \u001b[0mself\u001b[0m\u001b[1;33m.\u001b[0m\u001b[0m_engine\u001b[0m\u001b[1;33m.\u001b[0m\u001b[0mget_loc\u001b[0m\u001b[1;33m(\u001b[0m\u001b[0mkey\u001b[0m\u001b[1;33m)\u001b[0m\u001b[1;33m\u001b[0m\u001b[1;33m\u001b[0m\u001b[0m\n\u001b[0m\u001b[0;32m   2658\u001b[0m             \u001b[1;32mexcept\u001b[0m \u001b[0mKeyError\u001b[0m\u001b[1;33m:\u001b[0m\u001b[1;33m\u001b[0m\u001b[1;33m\u001b[0m\u001b[0m\n",
      "\u001b[1;32mpandas/_libs/index.pyx\u001b[0m in \u001b[0;36mpandas._libs.index.IndexEngine.get_loc\u001b[1;34m()\u001b[0m\n",
      "\u001b[1;32mpandas/_libs/index.pyx\u001b[0m in \u001b[0;36mpandas._libs.index.IndexEngine.get_loc\u001b[1;34m()\u001b[0m\n",
      "\u001b[1;32mpandas/_libs/hashtable_class_helper.pxi\u001b[0m in \u001b[0;36mpandas._libs.hashtable.PyObjectHashTable.get_item\u001b[1;34m()\u001b[0m\n",
      "\u001b[1;32mpandas/_libs/hashtable_class_helper.pxi\u001b[0m in \u001b[0;36mpandas._libs.hashtable.PyObjectHashTable.get_item\u001b[1;34m()\u001b[0m\n",
      "\u001b[1;31mKeyError\u001b[0m: 'country'",
      "\nDuring handling of the above exception, another exception occurred:\n",
      "\u001b[1;31mKeyError\u001b[0m                                  Traceback (most recent call last)",
      "\u001b[1;32m<ipython-input-31-89d62c583b3b>\u001b[0m in \u001b[0;36m<module>\u001b[1;34m\u001b[0m\n\u001b[1;32m----> 1\u001b[1;33m \u001b[0mdata7\u001b[0m\u001b[1;33m[\u001b[0m\u001b[1;34m'country'\u001b[0m\u001b[1;33m]\u001b[0m\u001b[1;33m.\u001b[0m\u001b[0mvalue_counts\u001b[0m\u001b[1;33m(\u001b[0m\u001b[1;33m)\u001b[0m\u001b[1;33m\u001b[0m\u001b[1;33m\u001b[0m\u001b[0m\n\u001b[0m",
      "\u001b[1;32mC:\\ProgramData\\Anaconda3\\lib\\site-packages\\pandas\\core\\frame.py\u001b[0m in \u001b[0;36m__getitem__\u001b[1;34m(self, key)\u001b[0m\n\u001b[0;32m   2925\u001b[0m             \u001b[1;32mif\u001b[0m \u001b[0mself\u001b[0m\u001b[1;33m.\u001b[0m\u001b[0mcolumns\u001b[0m\u001b[1;33m.\u001b[0m\u001b[0mnlevels\u001b[0m \u001b[1;33m>\u001b[0m \u001b[1;36m1\u001b[0m\u001b[1;33m:\u001b[0m\u001b[1;33m\u001b[0m\u001b[1;33m\u001b[0m\u001b[0m\n\u001b[0;32m   2926\u001b[0m                 \u001b[1;32mreturn\u001b[0m \u001b[0mself\u001b[0m\u001b[1;33m.\u001b[0m\u001b[0m_getitem_multilevel\u001b[0m\u001b[1;33m(\u001b[0m\u001b[0mkey\u001b[0m\u001b[1;33m)\u001b[0m\u001b[1;33m\u001b[0m\u001b[1;33m\u001b[0m\u001b[0m\n\u001b[1;32m-> 2927\u001b[1;33m             \u001b[0mindexer\u001b[0m \u001b[1;33m=\u001b[0m \u001b[0mself\u001b[0m\u001b[1;33m.\u001b[0m\u001b[0mcolumns\u001b[0m\u001b[1;33m.\u001b[0m\u001b[0mget_loc\u001b[0m\u001b[1;33m(\u001b[0m\u001b[0mkey\u001b[0m\u001b[1;33m)\u001b[0m\u001b[1;33m\u001b[0m\u001b[1;33m\u001b[0m\u001b[0m\n\u001b[0m\u001b[0;32m   2928\u001b[0m             \u001b[1;32mif\u001b[0m \u001b[0mis_integer\u001b[0m\u001b[1;33m(\u001b[0m\u001b[0mindexer\u001b[0m\u001b[1;33m)\u001b[0m\u001b[1;33m:\u001b[0m\u001b[1;33m\u001b[0m\u001b[1;33m\u001b[0m\u001b[0m\n\u001b[0;32m   2929\u001b[0m                 \u001b[0mindexer\u001b[0m \u001b[1;33m=\u001b[0m \u001b[1;33m[\u001b[0m\u001b[0mindexer\u001b[0m\u001b[1;33m]\u001b[0m\u001b[1;33m\u001b[0m\u001b[1;33m\u001b[0m\u001b[0m\n",
      "\u001b[1;32mC:\\ProgramData\\Anaconda3\\lib\\site-packages\\pandas\\core\\indexes\\base.py\u001b[0m in \u001b[0;36mget_loc\u001b[1;34m(self, key, method, tolerance)\u001b[0m\n\u001b[0;32m   2657\u001b[0m                 \u001b[1;32mreturn\u001b[0m \u001b[0mself\u001b[0m\u001b[1;33m.\u001b[0m\u001b[0m_engine\u001b[0m\u001b[1;33m.\u001b[0m\u001b[0mget_loc\u001b[0m\u001b[1;33m(\u001b[0m\u001b[0mkey\u001b[0m\u001b[1;33m)\u001b[0m\u001b[1;33m\u001b[0m\u001b[1;33m\u001b[0m\u001b[0m\n\u001b[0;32m   2658\u001b[0m             \u001b[1;32mexcept\u001b[0m \u001b[0mKeyError\u001b[0m\u001b[1;33m:\u001b[0m\u001b[1;33m\u001b[0m\u001b[1;33m\u001b[0m\u001b[0m\n\u001b[1;32m-> 2659\u001b[1;33m                 \u001b[1;32mreturn\u001b[0m \u001b[0mself\u001b[0m\u001b[1;33m.\u001b[0m\u001b[0m_engine\u001b[0m\u001b[1;33m.\u001b[0m\u001b[0mget_loc\u001b[0m\u001b[1;33m(\u001b[0m\u001b[0mself\u001b[0m\u001b[1;33m.\u001b[0m\u001b[0m_maybe_cast_indexer\u001b[0m\u001b[1;33m(\u001b[0m\u001b[0mkey\u001b[0m\u001b[1;33m)\u001b[0m\u001b[1;33m)\u001b[0m\u001b[1;33m\u001b[0m\u001b[1;33m\u001b[0m\u001b[0m\n\u001b[0m\u001b[0;32m   2660\u001b[0m         \u001b[0mindexer\u001b[0m \u001b[1;33m=\u001b[0m \u001b[0mself\u001b[0m\u001b[1;33m.\u001b[0m\u001b[0mget_indexer\u001b[0m\u001b[1;33m(\u001b[0m\u001b[1;33m[\u001b[0m\u001b[0mkey\u001b[0m\u001b[1;33m]\u001b[0m\u001b[1;33m,\u001b[0m \u001b[0mmethod\u001b[0m\u001b[1;33m=\u001b[0m\u001b[0mmethod\u001b[0m\u001b[1;33m,\u001b[0m \u001b[0mtolerance\u001b[0m\u001b[1;33m=\u001b[0m\u001b[0mtolerance\u001b[0m\u001b[1;33m)\u001b[0m\u001b[1;33m\u001b[0m\u001b[1;33m\u001b[0m\u001b[0m\n\u001b[0;32m   2661\u001b[0m         \u001b[1;32mif\u001b[0m \u001b[0mindexer\u001b[0m\u001b[1;33m.\u001b[0m\u001b[0mndim\u001b[0m \u001b[1;33m>\u001b[0m \u001b[1;36m1\u001b[0m \u001b[1;32mor\u001b[0m \u001b[0mindexer\u001b[0m\u001b[1;33m.\u001b[0m\u001b[0msize\u001b[0m \u001b[1;33m>\u001b[0m \u001b[1;36m1\u001b[0m\u001b[1;33m:\u001b[0m\u001b[1;33m\u001b[0m\u001b[1;33m\u001b[0m\u001b[0m\n",
      "\u001b[1;32mpandas/_libs/index.pyx\u001b[0m in \u001b[0;36mpandas._libs.index.IndexEngine.get_loc\u001b[1;34m()\u001b[0m\n",
      "\u001b[1;32mpandas/_libs/index.pyx\u001b[0m in \u001b[0;36mpandas._libs.index.IndexEngine.get_loc\u001b[1;34m()\u001b[0m\n",
      "\u001b[1;32mpandas/_libs/hashtable_class_helper.pxi\u001b[0m in \u001b[0;36mpandas._libs.hashtable.PyObjectHashTable.get_item\u001b[1;34m()\u001b[0m\n",
      "\u001b[1;32mpandas/_libs/hashtable_class_helper.pxi\u001b[0m in \u001b[0;36mpandas._libs.hashtable.PyObjectHashTable.get_item\u001b[1;34m()\u001b[0m\n",
      "\u001b[1;31mKeyError\u001b[0m: 'country'"
     ]
    }
   ],
   "source": [
    "data7['country'].value_counts()"
   ]
  },
  {
   "cell_type": "code",
   "execution_count": null,
   "metadata": {},
   "outputs": [],
   "source": [
    "data7['region'].value_counts()"
   ]
  },
  {
   "cell_type": "code",
   "execution_count": 32,
   "metadata": {},
   "outputs": [
    {
     "data": {
      "text/plain": [
       "[('information_schema', '_pg_foreign_data_wrappers'),\n",
       " ('information_schema', '_pg_foreign_servers'),\n",
       " ('information_schema', '_pg_foreign_table_columns'),\n",
       " ('information_schema', '_pg_foreign_tables'),\n",
       " ('information_schema', '_pg_user_mappings'),\n",
       " ('information_schema', 'administrable_role_authorizations'),\n",
       " ('information_schema', 'applicable_roles'),\n",
       " ('information_schema', 'attributes'),\n",
       " ('information_schema', 'character_sets'),\n",
       " ('information_schema', 'check_constraint_routine_usage'),\n",
       " ('information_schema', 'check_constraints'),\n",
       " ('information_schema', 'collation_character_set_applicability'),\n",
       " ('information_schema', 'collations'),\n",
       " ('information_schema', 'column_column_usage'),\n",
       " ('information_schema', 'column_domain_usage'),\n",
       " ('information_schema', 'column_options'),\n",
       " ('information_schema', 'column_privileges'),\n",
       " ('information_schema', 'column_udt_usage'),\n",
       " ('information_schema', 'columns'),\n",
       " ('information_schema', 'constraint_column_usage'),\n",
       " ('information_schema', 'constraint_table_usage'),\n",
       " ('information_schema', 'data_type_privileges'),\n",
       " ('information_schema', 'domain_constraints'),\n",
       " ('information_schema', 'domain_udt_usage'),\n",
       " ('information_schema', 'domains'),\n",
       " ('information_schema', 'element_types'),\n",
       " ('information_schema', 'enabled_roles'),\n",
       " ('information_schema', 'foreign_data_wrapper_options'),\n",
       " ('information_schema', 'foreign_data_wrappers'),\n",
       " ('information_schema', 'foreign_server_options'),\n",
       " ('information_schema', 'foreign_servers'),\n",
       " ('information_schema', 'foreign_table_options'),\n",
       " ('information_schema', 'foreign_tables'),\n",
       " ('information_schema', 'information_schema_catalog_name'),\n",
       " ('information_schema', 'key_column_usage'),\n",
       " ('information_schema', 'parameters'),\n",
       " ('information_schema', 'referential_constraints'),\n",
       " ('information_schema', 'role_column_grants'),\n",
       " ('information_schema', 'role_routine_grants'),\n",
       " ('information_schema', 'role_table_grants'),\n",
       " ('information_schema', 'role_udt_grants'),\n",
       " ('information_schema', 'role_usage_grants'),\n",
       " ('information_schema', 'routine_privileges'),\n",
       " ('information_schema', 'routines'),\n",
       " ('information_schema', 'schemata'),\n",
       " ('information_schema', 'sequences'),\n",
       " ('information_schema', 'sql_features'),\n",
       " ('information_schema', 'sql_implementation_info'),\n",
       " ('information_schema', 'sql_languages'),\n",
       " ('information_schema', 'sql_packages'),\n",
       " ('information_schema', 'sql_parts'),\n",
       " ('information_schema', 'sql_sizing'),\n",
       " ('information_schema', 'sql_sizing_profiles'),\n",
       " ('information_schema', 'table_constraints'),\n",
       " ('information_schema', 'table_privileges'),\n",
       " ('information_schema', 'tables'),\n",
       " ('information_schema', 'transforms'),\n",
       " ('information_schema', 'triggered_update_columns'),\n",
       " ('information_schema', 'triggers'),\n",
       " ('information_schema', 'udt_privileges'),\n",
       " ('information_schema', 'usage_privileges'),\n",
       " ('information_schema', 'user_defined_types'),\n",
       " ('information_schema', 'user_mapping_options'),\n",
       " ('information_schema', 'user_mappings'),\n",
       " ('information_schema', 'view_column_usage'),\n",
       " ('information_schema', 'view_routine_usage'),\n",
       " ('information_schema', 'view_table_usage'),\n",
       " ('information_schema', 'views'),\n",
       " ('pg_catalog', 'pg_aggregate'),\n",
       " ('pg_catalog', 'pg_am'),\n",
       " ('pg_catalog', 'pg_amop'),\n",
       " ('pg_catalog', 'pg_amproc'),\n",
       " ('pg_catalog', 'pg_attrdef'),\n",
       " ('pg_catalog', 'pg_attribute'),\n",
       " ('pg_catalog', 'pg_auth_members'),\n",
       " ('pg_catalog', 'pg_authid'),\n",
       " ('pg_catalog', 'pg_available_extension_versions'),\n",
       " ('pg_catalog', 'pg_available_extensions'),\n",
       " ('pg_catalog', 'pg_cast'),\n",
       " ('pg_catalog', 'pg_class'),\n",
       " ('pg_catalog', 'pg_collation'),\n",
       " ('pg_catalog', 'pg_config'),\n",
       " ('pg_catalog', 'pg_constraint'),\n",
       " ('pg_catalog', 'pg_conversion'),\n",
       " ('pg_catalog', 'pg_cursors'),\n",
       " ('pg_catalog', 'pg_database'),\n",
       " ('pg_catalog', 'pg_db_role_setting'),\n",
       " ('pg_catalog', 'pg_default_acl'),\n",
       " ('pg_catalog', 'pg_depend'),\n",
       " ('pg_catalog', 'pg_description'),\n",
       " ('pg_catalog', 'pg_enum'),\n",
       " ('pg_catalog', 'pg_event_trigger'),\n",
       " ('pg_catalog', 'pg_extension'),\n",
       " ('pg_catalog', 'pg_file_settings'),\n",
       " ('pg_catalog', 'pg_foreign_data_wrapper'),\n",
       " ('pg_catalog', 'pg_foreign_server'),\n",
       " ('pg_catalog', 'pg_foreign_table'),\n",
       " ('pg_catalog', 'pg_group'),\n",
       " ('pg_catalog', 'pg_hba_file_rules'),\n",
       " ('pg_catalog', 'pg_index'),\n",
       " ('pg_catalog', 'pg_indexes'),\n",
       " ('pg_catalog', 'pg_inherits'),\n",
       " ('pg_catalog', 'pg_init_privs'),\n",
       " ('pg_catalog', 'pg_language'),\n",
       " ('pg_catalog', 'pg_largeobject'),\n",
       " ('pg_catalog', 'pg_largeobject_metadata'),\n",
       " ('pg_catalog', 'pg_locks'),\n",
       " ('pg_catalog', 'pg_matviews'),\n",
       " ('pg_catalog', 'pg_namespace'),\n",
       " ('pg_catalog', 'pg_opclass'),\n",
       " ('pg_catalog', 'pg_operator'),\n",
       " ('pg_catalog', 'pg_opfamily'),\n",
       " ('pg_catalog', 'pg_partitioned_table'),\n",
       " ('pg_catalog', 'pg_pltemplate'),\n",
       " ('pg_catalog', 'pg_policies'),\n",
       " ('pg_catalog', 'pg_policy'),\n",
       " ('pg_catalog', 'pg_prepared_statements'),\n",
       " ('pg_catalog', 'pg_prepared_xacts'),\n",
       " ('pg_catalog', 'pg_proc'),\n",
       " ('pg_catalog', 'pg_publication'),\n",
       " ('pg_catalog', 'pg_publication_rel'),\n",
       " ('pg_catalog', 'pg_publication_tables'),\n",
       " ('pg_catalog', 'pg_range'),\n",
       " ('pg_catalog', 'pg_replication_origin'),\n",
       " ('pg_catalog', 'pg_replication_origin_status'),\n",
       " ('pg_catalog', 'pg_replication_slots'),\n",
       " ('pg_catalog', 'pg_rewrite'),\n",
       " ('pg_catalog', 'pg_roles'),\n",
       " ('pg_catalog', 'pg_rules'),\n",
       " ('pg_catalog', 'pg_seclabel'),\n",
       " ('pg_catalog', 'pg_seclabels'),\n",
       " ('pg_catalog', 'pg_sequence'),\n",
       " ('pg_catalog', 'pg_sequences'),\n",
       " ('pg_catalog', 'pg_settings'),\n",
       " ('pg_catalog', 'pg_shadow'),\n",
       " ('pg_catalog', 'pg_shdepend'),\n",
       " ('pg_catalog', 'pg_shdescription'),\n",
       " ('pg_catalog', 'pg_shseclabel'),\n",
       " ('pg_catalog', 'pg_stat_activity'),\n",
       " ('pg_catalog', 'pg_stat_all_indexes'),\n",
       " ('pg_catalog', 'pg_stat_all_tables'),\n",
       " ('pg_catalog', 'pg_stat_archiver'),\n",
       " ('pg_catalog', 'pg_stat_bgwriter'),\n",
       " ('pg_catalog', 'pg_stat_database'),\n",
       " ('pg_catalog', 'pg_stat_database_conflicts'),\n",
       " ('pg_catalog', 'pg_stat_gssapi'),\n",
       " ('pg_catalog', 'pg_stat_progress_cluster'),\n",
       " ('pg_catalog', 'pg_stat_progress_create_index'),\n",
       " ('pg_catalog', 'pg_stat_progress_vacuum'),\n",
       " ('pg_catalog', 'pg_stat_replication'),\n",
       " ('pg_catalog', 'pg_stat_ssl'),\n",
       " ('pg_catalog', 'pg_stat_subscription'),\n",
       " ('pg_catalog', 'pg_stat_sys_indexes'),\n",
       " ('pg_catalog', 'pg_stat_sys_tables'),\n",
       " ('pg_catalog', 'pg_stat_user_functions'),\n",
       " ('pg_catalog', 'pg_stat_user_indexes'),\n",
       " ('pg_catalog', 'pg_stat_user_tables'),\n",
       " ('pg_catalog', 'pg_stat_wal_receiver'),\n",
       " ('pg_catalog', 'pg_stat_xact_all_tables'),\n",
       " ('pg_catalog', 'pg_stat_xact_sys_tables'),\n",
       " ('pg_catalog', 'pg_stat_xact_user_functions'),\n",
       " ('pg_catalog', 'pg_stat_xact_user_tables'),\n",
       " ('pg_catalog', 'pg_statio_all_indexes'),\n",
       " ('pg_catalog', 'pg_statio_all_sequences'),\n",
       " ('pg_catalog', 'pg_statio_all_tables'),\n",
       " ('pg_catalog', 'pg_statio_sys_indexes'),\n",
       " ('pg_catalog', 'pg_statio_sys_sequences'),\n",
       " ('pg_catalog', 'pg_statio_sys_tables'),\n",
       " ('pg_catalog', 'pg_statio_user_indexes'),\n",
       " ('pg_catalog', 'pg_statio_user_sequences'),\n",
       " ('pg_catalog', 'pg_statio_user_tables'),\n",
       " ('pg_catalog', 'pg_statistic'),\n",
       " ('pg_catalog', 'pg_statistic_ext'),\n",
       " ('pg_catalog', 'pg_statistic_ext_data'),\n",
       " ('pg_catalog', 'pg_stats'),\n",
       " ('pg_catalog', 'pg_stats_ext'),\n",
       " ('pg_catalog', 'pg_subscription'),\n",
       " ('pg_catalog', 'pg_subscription_rel'),\n",
       " ('pg_catalog', 'pg_tables'),\n",
       " ('pg_catalog', 'pg_tablespace'),\n",
       " ('pg_catalog', 'pg_timezone_abbrevs'),\n",
       " ('pg_catalog', 'pg_timezone_names'),\n",
       " ('pg_catalog', 'pg_transform'),\n",
       " ('pg_catalog', 'pg_trigger'),\n",
       " ('pg_catalog', 'pg_ts_config'),\n",
       " ('pg_catalog', 'pg_ts_config_map'),\n",
       " ('pg_catalog', 'pg_ts_dict'),\n",
       " ('pg_catalog', 'pg_ts_parser'),\n",
       " ('pg_catalog', 'pg_ts_template'),\n",
       " ('pg_catalog', 'pg_type'),\n",
       " ('pg_catalog', 'pg_user'),\n",
       " ('pg_catalog', 'pg_user_mapping'),\n",
       " ('pg_catalog', 'pg_user_mappings'),\n",
       " ('pg_catalog', 'pg_views')]"
      ]
     },
     "execution_count": 32,
     "metadata": {},
     "output_type": "execute_result"
    }
   ],
   "source": [
    "cur.execute(\"\"\"\n",
    "SELECT table_schema,table_name\n",
    "FROM information_schema.tables\n",
    "ORDER BY table_schema,table_name;\"\"\")\n",
    "cur.fetchall()"
   ]
  },
  {
   "cell_type": "code",
   "execution_count": 33,
   "metadata": {},
   "outputs": [],
   "source": [
    "def create_tables(conn,cur):\n",
    "    \"\"\" create tables in the PostgreSQL database\"\"\"\n",
    "    commands = (\n",
    "        \"\"\"\n",
    "        CREATE TABLE vendors_coba_1 (\n",
    "            vendor_id SERIAL PRIMARY KEY,\n",
    "            vendor_name VARCHAR(%s) NOT NULL\n",
    "        )\n",
    "        \"\"\" % ('255'))\n",
    "    for command in commands:\n",
    "        cur.execute(command)\n",
    "        conn.commit()\n",
    "        cur.close()"
   ]
  },
  {
   "cell_type": "code",
   "execution_count": 34,
   "metadata": {},
   "outputs": [],
   "source": [
    "def create_tables(conn,cur):\n",
    "    \"\"\" create tables in the PostgreSQL database\"\"\"\n",
    "    commands = (\n",
    "        \"\"\"\n",
    "        CREATE TABLE vendors_1 (\n",
    "            vendor_id SERIAL PRIMARY KEY,\n",
    "            vendor_name VARCHAR(255) NOT NULL\n",
    "        )\n",
    "        \"\"\",\n",
    "        \"\"\" CREATE TABLE parts_1 (\n",
    "                part_id SERIAL PRIMARY KEY,\n",
    "                part_name VARCHAR(255) NOT NULL\n",
    "                )\n",
    "        \"\"\",\n",
    "        \"\"\"\n",
    "        CREATE TABLE part_drawings_1 (\n",
    "                part_id INTEGER PRIMARY KEY,\n",
    "                file_extension VARCHAR(5) NOT NULL,\n",
    "                drawing_data BYTEA NOT NULL,\n",
    "                FOREIGN KEY (part_id)\n",
    "                REFERENCES parts (part_id)\n",
    "                ON UPDATE CASCADE ON DELETE CASCADE\n",
    "        )\n",
    "        \"\"\",\n",
    "        \"\"\"\n",
    "        CREATE TABLE vendor_parts_1 (\n",
    "                vendor_id INTEGER NOT NULL,\n",
    "                part_id INTEGER NOT NULL,\n",
    "                PRIMARY KEY (vendor_id , part_id),\n",
    "                FOREIGN KEY (vendor_id)\n",
    "                    REFERENCES vendors (vendor_id)\n",
    "                    ON UPDATE CASCADE ON DELETE CASCADE,\n",
    "                FOREIGN KEY (part_id)\n",
    "                    REFERENCES parts (part_id)\n",
    "                    ON UPDATE CASCADE ON DELETE CASCADE\n",
    "        )\n",
    "        \"\"\")\n",
    "    for command in commands:\n",
    "        cur.execute(command)\n",
    "    cur.close()\n",
    "    conn.commit()"
   ]
  },
  {
   "cell_type": "code",
   "execution_count": 37,
   "metadata": {},
   "outputs": [
    {
     "ename": "UndefinedTable",
     "evalue": "relation \"parts\" does not exist\n",
     "output_type": "error",
     "traceback": [
      "\u001b[1;31m---------------------------------------------------------------------------\u001b[0m",
      "\u001b[1;31mUndefinedTable\u001b[0m                            Traceback (most recent call last)",
      "\u001b[1;32m<ipython-input-37-175ad4e4dab6>\u001b[0m in \u001b[0;36m<module>\u001b[1;34m\u001b[0m\n\u001b[1;32m----> 1\u001b[1;33m \u001b[0mcreate_tables\u001b[0m\u001b[1;33m(\u001b[0m\u001b[0mconn\u001b[0m\u001b[1;33m,\u001b[0m\u001b[0mcur\u001b[0m\u001b[1;33m)\u001b[0m\u001b[1;33m\u001b[0m\u001b[1;33m\u001b[0m\u001b[0m\n\u001b[0m",
      "\u001b[1;32m<ipython-input-34-3ff9039b0258>\u001b[0m in \u001b[0;36mcreate_tables\u001b[1;34m(conn, cur)\u001b[0m\n\u001b[0;32m     37\u001b[0m         \"\"\")\n\u001b[0;32m     38\u001b[0m     \u001b[1;32mfor\u001b[0m \u001b[0mcommand\u001b[0m \u001b[1;32min\u001b[0m \u001b[0mcommands\u001b[0m\u001b[1;33m:\u001b[0m\u001b[1;33m\u001b[0m\u001b[1;33m\u001b[0m\u001b[0m\n\u001b[1;32m---> 39\u001b[1;33m         \u001b[0mcur\u001b[0m\u001b[1;33m.\u001b[0m\u001b[0mexecute\u001b[0m\u001b[1;33m(\u001b[0m\u001b[0mcommand\u001b[0m\u001b[1;33m)\u001b[0m\u001b[1;33m\u001b[0m\u001b[1;33m\u001b[0m\u001b[0m\n\u001b[0m\u001b[0;32m     40\u001b[0m     \u001b[0mcur\u001b[0m\u001b[1;33m.\u001b[0m\u001b[0mclose\u001b[0m\u001b[1;33m(\u001b[0m\u001b[1;33m)\u001b[0m\u001b[1;33m\u001b[0m\u001b[1;33m\u001b[0m\u001b[0m\n\u001b[0;32m     41\u001b[0m     \u001b[0mconn\u001b[0m\u001b[1;33m.\u001b[0m\u001b[0mcommit\u001b[0m\u001b[1;33m(\u001b[0m\u001b[1;33m)\u001b[0m\u001b[1;33m\u001b[0m\u001b[1;33m\u001b[0m\u001b[0m\n",
      "\u001b[1;31mUndefinedTable\u001b[0m: relation \"parts\" does not exist\n"
     ]
    }
   ],
   "source": [
    "create_tables(conn,cur)"
   ]
  },
  {
   "cell_type": "code",
   "execution_count": 38,
   "metadata": {},
   "outputs": [],
   "source": [
    "def insert_vendor(vendor_name,conn,cur):\n",
    "    \"\"\" insert a new vendor into the vendors table \"\"\"\n",
    "    sql = \"\"\"INSERT INTO vendors(vendor_name)\n",
    "             VALUES(%s) RETURNING vendor_id;\"\"\"\n",
    "    vendor_id = None\n",
    "    try:\n",
    "        # execute the INSERT statement\n",
    "        cur.execute(sql, (vendor_name,))\n",
    "        # get the generated id back\n",
    "        vendor_id = cur.fetchone()[0]\n",
    "        # commit the changes to the database\n",
    "        conn.commit()\n",
    "    except (Exception, psycopg2.DatabaseError) as error:\n",
    "        print(error)\n",
    " \n",
    "    return vendor_id"
   ]
  },
  {
   "cell_type": "code",
   "execution_count": 39,
   "metadata": {},
   "outputs": [],
   "source": [
    "def insert_vendor_list(vendor_list,conn,cur):\n",
    "    \"\"\" insert multiple vendors into the vendors table  \"\"\"\n",
    "    sql = \"INSERT INTO vendors(vendor_name) VALUES(%s)\"\n",
    "    try:\n",
    "        # execute the INSERT statement\n",
    "        cur.executemany(sql,vendor_list)\n",
    "        # commit the changes to the database\n",
    "        conn.commit()\n",
    "        # close communication with the database\n",
    "    except (Exception, psycopg2.DatabaseError) as error:\n",
    "        print(error)"
   ]
  },
  {
   "cell_type": "code",
   "execution_count": 40,
   "metadata": {},
   "outputs": [
    {
     "name": "stdout",
     "output_type": "stream",
     "text": [
      "current transaction is aborted, commands ignored until end of transaction block\n",
      "\n"
     ]
    }
   ],
   "source": [
    "# insert one vendor\n",
    "#insert_vendor(\"Iykra Corp.\",conn,cur)\n",
    "# insert multiple vendors\n",
    "insert_vendor_list([\n",
    "    ('Garuda Terbang Inc.',),\n",
    "    ('Dodol Co Ltd.',)\n",
    "],conn,cur)"
   ]
  },
  {
   "cell_type": "code",
   "execution_count": 41,
   "metadata": {},
   "outputs": [
    {
     "ename": "TypeError",
     "evalue": "not enough arguments for format string",
     "output_type": "error",
     "traceback": [
      "\u001b[1;31m---------------------------------------------------------------------------\u001b[0m",
      "\u001b[1;31mTypeError\u001b[0m                                 Traceback (most recent call last)",
      "\u001b[1;32m<ipython-input-41-125c9dee04a6>\u001b[0m in \u001b[0;36m<module>\u001b[1;34m\u001b[0m\n\u001b[0;32m      1\u001b[0m \u001b[1;31m#sql = 'INSERT INTO vendors(vendor_name) VALUES('Garuda Terbang 1 Inc.','Dodol 1 Co Ltd.')' % ()\u001b[0m\u001b[1;33m\u001b[0m\u001b[1;33m\u001b[0m\u001b[1;33m\u001b[0m\u001b[0m\n\u001b[0;32m      2\u001b[0m \u001b[0ms\u001b[0m \u001b[1;33m=\u001b[0m \u001b[1;33m[\u001b[0m\u001b[1;34m'Garuda Terbang 20 Inc.'\u001b[0m\u001b[1;33m,\u001b[0m\u001b[1;34m'Dodol 20 Co Ltd.'\u001b[0m\u001b[1;33m]\u001b[0m\u001b[1;33m\u001b[0m\u001b[1;33m\u001b[0m\u001b[0m\n\u001b[1;32m----> 3\u001b[1;33m \u001b[0msql\u001b[0m \u001b[1;33m=\u001b[0m \u001b[1;34m\"INSERT INTO vendors(%s) VALUES %s\"\u001b[0m \u001b[1;33m%\u001b[0m \u001b[1;33m(\u001b[0m\u001b[1;34m\",\"\u001b[0m\u001b[1;33m.\u001b[0m\u001b[0mjoin\u001b[0m\u001b[1;33m(\u001b[0m\u001b[1;34m\"('\"\u001b[0m\u001b[1;33m+\u001b[0m\u001b[0mx\u001b[0m\u001b[1;33m+\u001b[0m\u001b[1;34m\"')\"\u001b[0m \u001b[1;32mfor\u001b[0m \u001b[0mx\u001b[0m \u001b[1;32min\u001b[0m \u001b[0ms\u001b[0m\u001b[1;33m)\u001b[0m\u001b[1;33m)\u001b[0m\u001b[1;33m\u001b[0m\u001b[1;33m\u001b[0m\u001b[0m\n\u001b[0m\u001b[0;32m      4\u001b[0m \u001b[0mcur\u001b[0m\u001b[1;33m.\u001b[0m\u001b[0mexecute\u001b[0m\u001b[1;33m(\u001b[0m\u001b[0msql\u001b[0m\u001b[1;33m)\u001b[0m\u001b[1;33m\u001b[0m\u001b[1;33m\u001b[0m\u001b[0m\n\u001b[0;32m      5\u001b[0m \u001b[0mconn\u001b[0m\u001b[1;33m.\u001b[0m\u001b[0mcommit\u001b[0m\u001b[1;33m(\u001b[0m\u001b[1;33m)\u001b[0m\u001b[1;33m\u001b[0m\u001b[1;33m\u001b[0m\u001b[0m\n",
      "\u001b[1;31mTypeError\u001b[0m: not enough arguments for format string"
     ]
    }
   ],
   "source": [
    "#sql = 'INSERT INTO vendors(vendor_name) VALUES('Garuda Terbang 1 Inc.','Dodol 1 Co Ltd.')' % ()\n",
    "s = ['Garuda Terbang 20 Inc.','Dodol 20 Co Ltd.']\n",
    "sql = \"INSERT INTO vendors(%s) VALUES %s\" % (\",\".join(\"('\"+x+\"')\" for x in s))\n",
    "cur.execute(sql)\n",
    "conn.commit()\n",
    "#(\"Garuda Terbang 5 Inc.\"),(\"Garuda Terbang 6 Inc.\")\n",
    "\n"
   ]
  },
  {
   "cell_type": "code",
   "execution_count": 42,
   "metadata": {},
   "outputs": [
    {
     "ename": "InFailedSqlTransaction",
     "evalue": "current transaction is aborted, commands ignored until end of transaction block\n",
     "output_type": "error",
     "traceback": [
      "\u001b[1;31m---------------------------------------------------------------------------\u001b[0m",
      "\u001b[1;31mInFailedSqlTransaction\u001b[0m                    Traceback (most recent call last)",
      "\u001b[1;32m<ipython-input-42-c7f89dc56365>\u001b[0m in \u001b[0;36m<module>\u001b[1;34m\u001b[0m\n\u001b[0;32m      1\u001b[0m \u001b[0msyntax\u001b[0m \u001b[1;33m=\u001b[0m \u001b[1;34m\"select * from vendors\"\u001b[0m\u001b[1;33m\u001b[0m\u001b[1;33m\u001b[0m\u001b[0m\n\u001b[1;32m----> 2\u001b[1;33m \u001b[0mcur\u001b[0m\u001b[1;33m.\u001b[0m\u001b[0mexecute\u001b[0m\u001b[1;33m(\u001b[0m\u001b[0msyntax\u001b[0m\u001b[1;33m)\u001b[0m\u001b[1;33m\u001b[0m\u001b[1;33m\u001b[0m\u001b[0m\n\u001b[0m\u001b[0;32m      3\u001b[0m \u001b[0ma\u001b[0m \u001b[1;33m=\u001b[0m \u001b[0mcur\u001b[0m\u001b[1;33m.\u001b[0m\u001b[0mfetchall\u001b[0m\u001b[1;33m(\u001b[0m\u001b[1;33m)\u001b[0m\u001b[1;33m\u001b[0m\u001b[1;33m\u001b[0m\u001b[0m\n\u001b[0;32m      4\u001b[0m \u001b[0ma_id\u001b[0m \u001b[1;33m=\u001b[0m \u001b[1;33m[\u001b[0m\u001b[0mx\u001b[0m\u001b[1;33m[\u001b[0m\u001b[1;36m0\u001b[0m\u001b[1;33m]\u001b[0m \u001b[1;32mfor\u001b[0m \u001b[0mx\u001b[0m \u001b[1;32min\u001b[0m \u001b[0ma\u001b[0m\u001b[1;33m]\u001b[0m\u001b[1;33m\u001b[0m\u001b[1;33m\u001b[0m\u001b[0m\n\u001b[0;32m      5\u001b[0m \u001b[0ma_vendornm\u001b[0m \u001b[1;33m=\u001b[0m \u001b[1;33m[\u001b[0m\u001b[0mx\u001b[0m\u001b[1;33m[\u001b[0m\u001b[1;36m1\u001b[0m\u001b[1;33m]\u001b[0m \u001b[1;32mfor\u001b[0m \u001b[0mx\u001b[0m \u001b[1;32min\u001b[0m \u001b[0ma\u001b[0m\u001b[1;33m]\u001b[0m\u001b[1;33m\u001b[0m\u001b[1;33m\u001b[0m\u001b[0m\n",
      "\u001b[1;31mInFailedSqlTransaction\u001b[0m: current transaction is aborted, commands ignored until end of transaction block\n"
     ]
    }
   ],
   "source": [
    "syntax = \"select * from vendors\"\n",
    "cur.execute(syntax)\n",
    "a = cur.fetchall()\n",
    "a_id = [x[0] for x in a]\n",
    "a_vendornm = [x[1] for x in a]"
   ]
  },
  {
   "cell_type": "code",
   "execution_count": null,
   "metadata": {},
   "outputs": [],
   "source": [
    "import pandas as pd"
   ]
  },
  {
   "cell_type": "code",
   "execution_count": null,
   "metadata": {},
   "outputs": [],
   "source": [
    "gepeng4 = pd.DataFrame({'id' : a_id, 'vendor_name' : a_vendornm})\n",
    "gepeng4.drop_duplicates(['vendor_name'],inplace = False)"
   ]
  },
  {
   "cell_type": "code",
   "execution_count": null,
   "metadata": {},
   "outputs": [],
   "source": [
    "gepeng4"
   ]
  },
  {
   "cell_type": "code",
   "execution_count": null,
   "metadata": {},
   "outputs": [],
   "source": [
    "#s = ['Garuda Terbang Inc.','Dodol Co Ltd.']\n",
    "#\" \".join(x for x in tuple(s))\n",
    "#tuple(s\n",
    "s = ['Garuda Terbang Inc.','Dodol Co Ltd.']\n"
   ]
  },
  {
   "cell_type": "code",
   "execution_count": null,
   "metadata": {},
   "outputs": [],
   "source": [
    "column_value = ['Garuda Terbang Inc.','Dodol Co Ltd.']\n",
    "tuple(column_value) "
   ]
  },
  {
   "cell_type": "code",
   "execution_count": null,
   "metadata": {},
   "outputs": [],
   "source": [
    "def update_vendor(vendor_id, vendor_name,conn,cur):\n",
    "    \"\"\" update vendor name based on the vendor id \"\"\"\n",
    "    sql = \"\"\" UPDATE vendors\n",
    "                SET vendor_name = %s\n",
    "                WHERE vendor_id = %s\"\"\"\n",
    "    updated_rows = 0\n",
    "    try:\n",
    "        cur.execute(sql, (vendor_name, vendor_id))\n",
    "        # get the number of updated rows\n",
    "        updated_rows = cur.rowcount\n",
    "        # Commit the changes to the database\n",
    "        conn.commit()\n",
    "    except (Exception, psycopg2.DatabaseError) as error:\n",
    "        print(error)\n",
    "    \n",
    "    return updated_rows"
   ]
  },
  {
   "cell_type": "code",
   "execution_count": null,
   "metadata": {},
   "outputs": [],
   "source": [
    "def get_vendors(con,cur):\n",
    "    \"\"\" query data from the vendors table \"\"\"\n",
    "    try:\n",
    "        cur.execute(\"SELECT vendor_id, vendor_name FROM vendors ORDER BY vendor_name\")\n",
    "        print(\"The number of parts: \", cur.rowcount)\n",
    "        row = cur.fetchone()\n",
    " \n",
    "        while row is not None:\n",
    "            print(row)\n",
    "            row = cur.fetchone()\n",
    "    except (Exception, psycopg2.DatabaseError) as error:\n",
    "        print(error)"
   ]
  },
  {
   "cell_type": "code",
   "execution_count": null,
   "metadata": {},
   "outputs": [],
   "source": [
    "cur.execute(\"select * from public.vendors\")\n",
    "cur.fetchall()"
   ]
  },
  {
   "cell_type": "code",
   "execution_count": null,
   "metadata": {},
   "outputs": [],
   "source": [
    "def delete_part(part_id):\n",
    "    \"\"\" delete part by part id \"\"\"\n",
    "    conn = None\n",
    "    rows_deleted = 0\n",
    "    try:\n",
    "        # execute the UPDATE  statement\n",
    "        cur.execute(\"DELETE FROM parts WHERE part_id = %s\", (part_id,))\n",
    "        # get the number of updated rows\n",
    "        rows_deleted = cur.rowcount\n",
    "        # Commit the changes to the database\n",
    "        conn.commit()\n",
    "    except (Exception, psycopg2.DatabaseError) as error:\n",
    "        print(error)\n",
    " \n",
    "    return rows_deleted"
   ]
  },
  {
   "cell_type": "code",
   "execution_count": null,
   "metadata": {},
   "outputs": [],
   "source": []
  }
 ],
 "metadata": {
  "kernelspec": {
   "display_name": "Python 3",
   "language": "python",
   "name": "python3"
  },
  "language_info": {
   "codemirror_mode": {
    "name": "ipython",
    "version": 3
   },
   "file_extension": ".py",
   "mimetype": "text/x-python",
   "name": "python",
   "nbconvert_exporter": "python",
   "pygments_lexer": "ipython3",
   "version": "3.7.3"
  }
 },
 "nbformat": 4,
 "nbformat_minor": 2
}
